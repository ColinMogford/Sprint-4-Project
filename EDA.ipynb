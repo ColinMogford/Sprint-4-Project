{
 "cells": [
  {
   "cell_type": "code",
   "execution_count": null,
   "metadata": {},
   "outputs": [],
   "source": [
    "import pandas as pd\n",
    "import numpy as np\n",
    "import math as mt\n",
    "import streamlit as st\n",
    "import plotly.express as px"
   ]
  },
  {
   "cell_type": "code",
   "execution_count": null,
   "metadata": {},
   "outputs": [],
   "source": [
    "# Import Data\n",
    "df = pd.read_csv('vehicles_us.csv')"
   ]
  },
  {
   "cell_type": "code",
   "execution_count": null,
   "metadata": {},
   "outputs": [],
   "source": [
    "# EDA\n",
    "df.info()"
   ]
  },
  {
   "cell_type": "markdown",
   "metadata": {},
   "source": [
    "**Initial Observations**\n",
    "- `Model_year`, `cylinders`, `odometer`, `paint_color`, and `is_4wd` have null values.\n",
    "-All null value columns except `is_4wd` can be filled with N/A. `is_4wd` can be filled with zero to indicate no 4-wheel drive\n",
    "- `Model` column currently contains the make and model of the car in the same value. Would be better to split this in to `Make` and `Model` columns so better analysis can be performed."
   ]
  },
  {
   "cell_type": "code",
   "execution_count": null,
   "metadata": {},
   "outputs": [],
   "source": [
    "df.head(10)"
   ]
  },
  {
   "cell_type": "code",
   "execution_count": null,
   "metadata": {},
   "outputs": [],
   "source": [
    "# Rename model column to make_model to prepare for change\n",
    "df = df.rename(columns={'model':'make_model'})\n",
    "df.info()"
   ]
  },
  {
   "cell_type": "code",
   "execution_count": null,
   "metadata": {},
   "outputs": [],
   "source": [
    "#Check cell for comparison later\n",
    "df['make_model'].head(10)"
   ]
  },
  {
   "cell_type": "code",
   "execution_count": null,
   "metadata": {},
   "outputs": [],
   "source": [
    "# Get unique values from the model category\n",
    "df['make_model'].unique()"
   ]
  },
  {
   "cell_type": "code",
   "execution_count": null,
   "metadata": {},
   "outputs": [],
   "source": [
    "# Split items in make_model column and assign them to individual make and model columns\n",
    "df['make'] = df['make_model'].str.split().str[0]\n",
    "df['model'] = df['make_model'].str.split().str[1:]\n",
    "df.info()"
   ]
  },
  {
   "cell_type": "code",
   "execution_count": null,
   "metadata": {},
   "outputs": [],
   "source": [
    "# Above change leaves the model column as a series of lists. Below will concatenate the lists into single spaced strings\n",
    "df['model'] = df['model'].apply(lambda x:' '.join(x))\n",
    "df['model'].head(10)"
   ]
  },
  {
   "cell_type": "code",
   "execution_count": null,
   "metadata": {},
   "outputs": [],
   "source": [
    "# Fill various null values in columns with N/A\n",
    "df['cylinders'] = df['cylinders'].fillna('NA')\n",
    "df['odometer'] = df['odometer'].fillna('NA')\n",
    "df['paint_color'] = df['paint_color'].fillna('NA')\n",
    "df['model_year'] = df['model_year'].fillna(0.0)\n",
    "\n",
    "# Fill null values in is_4wd column with 0.00 to indicate no 4-wheel drive\n",
    "df['is_4wd'] = df['is_4wd'].fillna(0.0)\n",
    "\n",
    "#Check for duplicated rows\n",
    "print(df.duplicated().unique())\n",
    "\n",
    "#Check vehicle info again\n",
    "print(df.info())"
   ]
  },
  {
   "cell_type": "code",
   "execution_count": null,
   "metadata": {},
   "outputs": [],
   "source": [
    "df['model_year'] = df['model_year'].astype('int64')"
   ]
  },
  {
   "cell_type": "code",
   "execution_count": null,
   "metadata": {},
   "outputs": [],
   "source": [
    "# Test Streamlit Apps\n",
    "st.header('Data viewer') \n",
    "st.dataframe(df)\n",
    "\n",
    "# Create Vehicle types by manufacturer histogram\n",
    "st.header('Vehicle type by Manufactuer')\n",
    "fig = px.histogram(df, x='make',color='type')\n",
    "# Display with streamlit\n",
    "st.write(fig)"
   ]
  },
  {
   "cell_type": "code",
   "execution_count": null,
   "metadata": {},
   "outputs": [],
   "source": [
    "df.info()"
   ]
  }
 ],
 "metadata": {
  "kernelspec": {
   "display_name": "Python 3",
   "language": "python",
   "name": "python3"
  },
  "language_info": {
   "codemirror_mode": {
    "name": "ipython",
    "version": 3
   },
   "file_extension": ".py",
   "mimetype": "text/x-python",
   "name": "python",
   "nbconvert_exporter": "python",
   "pygments_lexer": "ipython3",
   "version": "3.12.1"
  }
 },
 "nbformat": 4,
 "nbformat_minor": 2
}
